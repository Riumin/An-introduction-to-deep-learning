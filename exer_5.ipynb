{
 "cells": [
  {
   "cell_type": "code",
   "execution_count": 1,
   "metadata": {},
   "outputs": [],
   "source": [
    "import  numpy as np\n",
    "data = np.array([[0,0,1],[0,1,1],[1,0,1],[1,1,1]])\n",
    "labels=np.array([0,1,0,1])\n",
    "import matplotlib.pyplot as plt\n",
    "step = 0.8"
   ]
  },
  {
   "cell_type": "code",
   "execution_count": 2,
   "metadata": {},
   "outputs": [],
   "source": [
    "w1 = np.mat(np.random.randn(4,3));\n",
    "w = np.mat(np.random.randn(1,4));"
   ]
  },
  {
   "cell_type": "code",
   "execution_count": 3,
   "metadata": {},
   "outputs": [],
   "source": [
    "def sigmoid(inputs):\n",
    "    return 1/(1+np.exp(-inputs,dtype='double'))"
   ]
  },
  {
   "cell_type": "code",
   "execution_count": 4,
   "metadata": {},
   "outputs": [],
   "source": [
    "offsets = []\n",
    "for epoch in range(1000):\n",
    "    test = 0\n",
    "    for i in range(len(data)):\n",
    "        datum = np.mat(data[i]).T\n",
    "        v1 = w1*datum\n",
    "        y1 = sigmoid(v1)\n",
    "        \n",
    "        v = w*y1\n",
    "        y = sigmoid(v)\n",
    "        \n",
    "        offset = labels[i] - y\n",
    "        delta = np.multiply(offset,np.multiply(y,1-y))\n",
    "        e1 = w.T*delta\n",
    "        delta1 = np.multiply(e1,np.multiply(y1,1-y1))\n",
    "        test +=np.square(offset)\n",
    "        \n",
    "        w1 += step*delta1*datum.T\n",
    "        w+= step*delta*y1.T\n",
    "    offsets.append(test/4)"
   ]
  },
  {
   "cell_type": "code",
   "execution_count": 5,
   "metadata": {},
   "outputs": [],
   "source": [
    "offsets = np.array(offsets)\n",
    "offsets = np.reshape(offsets,1000)"
   ]
  },
  {
   "cell_type": "code",
   "execution_count": 6,
   "metadata": {},
   "outputs": [
    {
     "data": {
      "image/png": "[encoded data removed]",
      "text/plain": [
       "<Figure size 432x288 with 1 Axes>"
      ]
     },
     "metadata": {
      "needs_background": "light"
     },
     "output_type": "display_data"
    }
   ],
   "source": [
    "plt.plot(range(np.size(offsets)),offsets)\n",
    "plt.show()"
   ]
  },
  {
   "cell_type": "code",
   "execution_count": 7,
   "metadata": {},
   "outputs": [
    {
     "name": "stdout",
     "output_type": "stream",
     "text": [
      "[[0.01887191]]\n",
      "[[0.97722768]]\n",
      "[[0.01656212]]\n",
      "[[0.97661729]]\n"
     ]
    }
   ],
   "source": [
    "for i in range(len(data)):\n",
    "    datum = np.mat(data[i]).T\n",
    "    v1 = w1*datum\n",
    "    y1 = sigmoid(v1)\n",
    "\n",
    "    v = w*y1\n",
    "    y = sigmoid(v)\n",
    "    print(y)"
   ]
  }
 ],
 "metadata": {
  "kernelspec": {
   "display_name": "Python 3",
   "language": "python",
   "name": "python3"
  },
  "language_info": {
   "codemirror_mode": {
    "name": "ipython",
    "version": 3
   },
   "file_extension": ".py",
   "mimetype": "text/x-python",
   "name": "python",
   "nbconvert_exporter": "python",
   "pygments_lexer": "ipython3",
   "version": "3.7.4"
  }
 },
 "nbformat": 4,
 "nbformat_minor": 2
}
